{
 "cells": [
  {
   "cell_type": "code",
   "metadata": {
    "cell_id": "ba73b3b7-8ef2-46a4-8fa4-09d9fecbab36",
    "tags": [],
    "deepnote_to_be_reexecuted": false,
    "source_hash": "c5896924",
    "execution_start": 1643486533178,
    "execution_millis": 833,
    "deepnote_cell_type": "code"
   },
   "source": "import numpy as np\nimport pandas as pd\nimport matplotlib.pyplot as plt\n",
   "execution_count": 1,
   "outputs": []
  },
  {
   "cell_type": "code",
   "metadata": {
    "cell_id": "54b58f37-9ef0-4c60-aba5-24c1e5bea0af",
    "tags": [],
    "deepnote_to_be_reexecuted": false,
    "source_hash": "b14e3b31",
    "execution_start": 1643486534020,
    "execution_millis": 17,
    "deepnote_cell_type": "code"
   },
   "source": "# Leemos la data \ndf = pd.read_csv('PeruTipoDeCambio.csv')",
   "execution_count": 3,
   "outputs": []
  },
  {
   "cell_type": "code",
   "metadata": {
    "cell_id": "2d51af27-7a6a-44bb-aa8c-dbbb8f91268e",
    "tags": [],
    "deepnote_to_be_reexecuted": false,
    "source_hash": "c085b6ba",
    "execution_start": 1643486534058,
    "execution_millis": 26,
    "deepnote_cell_type": "code"
   },
   "source": "df.head()",
   "execution_count": 4,
   "outputs": [
    {
     "output_type": "execute_result",
     "execution_count": 4,
     "data": {
      "application/vnd.deepnote.dataframe.v3+json": {
       "column_count": 3,
       "row_count": 5,
       "columns": [
        {
         "name": "Fecha_Cambio",
         "dtype": "object",
         "stats": {
          "unique_count": 5,
          "nan_count": 0,
          "categories": [
           {
            "name": "2002-02-01",
            "count": 1
           },
           {
            "name": "2002-02-04",
            "count": 1
           },
           {
            "name": "3 others",
            "count": 3
           }
          ]
         }
        },
        {
         "name": "TC_Soles_Dolares",
         "dtype": "float64",
         "stats": {
          "unique_count": 5,
          "nan_count": 0,
          "min": "3.4757",
          "max": "3.4858",
          "histogram": [
           {
            "bin_start": 3.4757,
            "bin_end": 3.4767099999999997,
            "count": 1
           },
           {
            "bin_start": 3.4767099999999997,
            "bin_end": 3.4777199999999997,
            "count": 0
           },
           {
            "bin_start": 3.4777199999999997,
            "bin_end": 3.4787299999999997,
            "count": 0
           },
           {
            "bin_start": 3.4787299999999997,
            "bin_end": 3.4797399999999996,
            "count": 0
           },
           {
            "bin_start": 3.4797399999999996,
            "bin_end": 3.4807499999999996,
            "count": 0
           },
           {
            "bin_start": 3.4807499999999996,
            "bin_end": 3.48176,
            "count": 0
           },
           {
            "bin_start": 3.48176,
            "bin_end": 3.48277,
            "count": 1
           },
           {
            "bin_start": 3.48277,
            "bin_end": 3.48378,
            "count": 1
           },
           {
            "bin_start": 3.48378,
            "bin_end": 3.48479,
            "count": 1
           },
           {
            "bin_start": 3.48479,
            "bin_end": 3.4858,
            "count": 1
           }
          ]
         }
        },
        {
         "name": "TC_Soles_Euros",
         "dtype": "float64",
         "stats": {
          "unique_count": 5,
          "nan_count": 0,
          "min": "2.94",
          "max": "3.013",
          "histogram": [
           {
            "bin_start": 2.94,
            "bin_end": 2.9473,
            "count": 2
           },
           {
            "bin_start": 2.9473,
            "bin_end": 2.9546,
            "count": 0
           },
           {
            "bin_start": 2.9546,
            "bin_end": 2.9619,
            "count": 0
           },
           {
            "bin_start": 2.9619,
            "bin_end": 2.9692,
            "count": 0
           },
           {
            "bin_start": 2.9692,
            "bin_end": 2.9764999999999997,
            "count": 0
           },
           {
            "bin_start": 2.9764999999999997,
            "bin_end": 2.9838,
            "count": 0
           },
           {
            "bin_start": 2.9838,
            "bin_end": 2.9911,
            "count": 1
           },
           {
            "bin_start": 2.9911,
            "bin_end": 2.9983999999999997,
            "count": 0
           },
           {
            "bin_start": 2.9983999999999997,
            "bin_end": 3.0057,
            "count": 1
           },
           {
            "bin_start": 3.0057,
            "bin_end": 3.013,
            "count": 1
           }
          ]
         }
        },
        {
         "name": "_deepnote_index_column",
         "dtype": "int64"
        }
       ],
       "rows": [
        {
         "Fecha_Cambio": "2002-02-01",
         "TC_Soles_Dolares": 3.4757,
         "TC_Soles_Euros": 2.989,
         "_deepnote_index_column": 0
        },
        {
         "Fecha_Cambio": "2002-02-04",
         "TC_Soles_Dolares": 3.4824,
         "TC_Soles_Euros": 2.94,
         "_deepnote_index_column": 1
        },
        {
         "Fecha_Cambio": "2002-02-05",
         "TC_Soles_Dolares": 3.4846,
         "TC_Soles_Euros": 2.999,
         "_deepnote_index_column": 2
        },
        {
         "Fecha_Cambio": "2002-02-06",
         "TC_Soles_Dolares": 3.4858,
         "TC_Soles_Euros": 2.946,
         "_deepnote_index_column": 3
        },
        {
         "Fecha_Cambio": "2002-02-07",
         "TC_Soles_Dolares": 3.4835,
         "TC_Soles_Euros": 3.013,
         "_deepnote_index_column": 4
        }
       ]
      },
      "text/plain": "  Fecha_Cambio  TC_Soles_Dolares  TC_Soles_Euros\n0   2002-02-01            3.4757           2.989\n1   2002-02-04            3.4824           2.940\n2   2002-02-05            3.4846           2.999\n3   2002-02-06            3.4858           2.946\n4   2002-02-07            3.4835           3.013",
      "text/html": "<div>\n<style scoped>\n    .dataframe tbody tr th:only-of-type {\n        vertical-align: middle;\n    }\n\n    .dataframe tbody tr th {\n        vertical-align: top;\n    }\n\n    .dataframe thead th {\n        text-align: right;\n    }\n</style>\n<table border=\"1\" class=\"dataframe\">\n  <thead>\n    <tr style=\"text-align: right;\">\n      <th></th>\n      <th>Fecha_Cambio</th>\n      <th>TC_Soles_Dolares</th>\n      <th>TC_Soles_Euros</th>\n    </tr>\n  </thead>\n  <tbody>\n    <tr>\n      <th>0</th>\n      <td>2002-02-01</td>\n      <td>3.4757</td>\n      <td>2.989</td>\n    </tr>\n    <tr>\n      <th>1</th>\n      <td>2002-02-04</td>\n      <td>3.4824</td>\n      <td>2.940</td>\n    </tr>\n    <tr>\n      <th>2</th>\n      <td>2002-02-05</td>\n      <td>3.4846</td>\n      <td>2.999</td>\n    </tr>\n    <tr>\n      <th>3</th>\n      <td>2002-02-06</td>\n      <td>3.4858</td>\n      <td>2.946</td>\n    </tr>\n    <tr>\n      <th>4</th>\n      <td>2002-02-07</td>\n      <td>3.4835</td>\n      <td>3.013</td>\n    </tr>\n  </tbody>\n</table>\n</div>"
     },
     "metadata": {}
    }
   ]
  },
  {
   "cell_type": "code",
   "metadata": {
    "cell_id": "88cb8dd9-b029-486f-bd5e-1446d7ce6be4",
    "tags": [],
    "deepnote_to_be_reexecuted": false,
    "source_hash": "dade6e79",
    "execution_start": 1643486534088,
    "execution_millis": 4,
    "deepnote_cell_type": "code"
   },
   "source": "# Cambiamos el tipo de dato de date a datetime\ndf['Fecha_Cambio'] = pd.to_datetime(df['Fecha_Cambio'])",
   "execution_count": 5,
   "outputs": []
  },
  {
   "cell_type": "code",
   "metadata": {
    "cell_id": "16c58a01-f871-4c93-b999-2bf0db5c8148",
    "tags": [],
    "deepnote_to_be_reexecuted": false,
    "source_hash": "c085b6ba",
    "execution_start": 1643486534102,
    "execution_millis": 77,
    "deepnote_cell_type": "code"
   },
   "source": "df.head()",
   "execution_count": 6,
   "outputs": [
    {
     "output_type": "execute_result",
     "execution_count": 6,
     "data": {
      "application/vnd.deepnote.dataframe.v3+json": {
       "column_count": 3,
       "row_count": 5,
       "columns": [
        {
         "name": "Fecha_Cambio",
         "dtype": "datetime64[ns]",
         "stats": {
          "unique_count": 5,
          "nan_count": 0,
          "min": "2002-02-01 00:00:00",
          "max": "2002-02-07 00:00:00",
          "histogram": [
           {
            "bin_start": 1012521600000000000,
            "bin_end": 1012573440000000000,
            "count": 1
           },
           {
            "bin_start": 1012573440000000000,
            "bin_end": 1012625280000000000,
            "count": 0
           },
           {
            "bin_start": 1012625280000000000,
            "bin_end": 1012677120000000000,
            "count": 0
           },
           {
            "bin_start": 1012677120000000000,
            "bin_end": 1012728960000000000,
            "count": 0
           },
           {
            "bin_start": 1012728960000000000,
            "bin_end": 1012780800000000000,
            "count": 0
           },
           {
            "bin_start": 1012780800000000000,
            "bin_end": 1012832640000000000,
            "count": 1
           },
           {
            "bin_start": 1012832640000000000,
            "bin_end": 1012884480000000000,
            "count": 1
           },
           {
            "bin_start": 1012884480000000000,
            "bin_end": 1012936320000000000,
            "count": 0
           },
           {
            "bin_start": 1012936320000000000,
            "bin_end": 1012988160000000000,
            "count": 1
           },
           {
            "bin_start": 1012988160000000000,
            "bin_end": 1013040000000000000,
            "count": 1
           }
          ]
         }
        },
        {
         "name": "TC_Soles_Dolares",
         "dtype": "float64",
         "stats": {
          "unique_count": 5,
          "nan_count": 0,
          "min": "3.4757",
          "max": "3.4858",
          "histogram": [
           {
            "bin_start": 3.4757,
            "bin_end": 3.4767099999999997,
            "count": 1
           },
           {
            "bin_start": 3.4767099999999997,
            "bin_end": 3.4777199999999997,
            "count": 0
           },
           {
            "bin_start": 3.4777199999999997,
            "bin_end": 3.4787299999999997,
            "count": 0
           },
           {
            "bin_start": 3.4787299999999997,
            "bin_end": 3.4797399999999996,
            "count": 0
           },
           {
            "bin_start": 3.4797399999999996,
            "bin_end": 3.4807499999999996,
            "count": 0
           },
           {
            "bin_start": 3.4807499999999996,
            "bin_end": 3.48176,
            "count": 0
           },
           {
            "bin_start": 3.48176,
            "bin_end": 3.48277,
            "count": 1
           },
           {
            "bin_start": 3.48277,
            "bin_end": 3.48378,
            "count": 1
           },
           {
            "bin_start": 3.48378,
            "bin_end": 3.48479,
            "count": 1
           },
           {
            "bin_start": 3.48479,
            "bin_end": 3.4858,
            "count": 1
           }
          ]
         }
        },
        {
         "name": "TC_Soles_Euros",
         "dtype": "float64",
         "stats": {
          "unique_count": 5,
          "nan_count": 0,
          "min": "2.94",
          "max": "3.013",
          "histogram": [
           {
            "bin_start": 2.94,
            "bin_end": 2.9473,
            "count": 2
           },
           {
            "bin_start": 2.9473,
            "bin_end": 2.9546,
            "count": 0
           },
           {
            "bin_start": 2.9546,
            "bin_end": 2.9619,
            "count": 0
           },
           {
            "bin_start": 2.9619,
            "bin_end": 2.9692,
            "count": 0
           },
           {
            "bin_start": 2.9692,
            "bin_end": 2.9764999999999997,
            "count": 0
           },
           {
            "bin_start": 2.9764999999999997,
            "bin_end": 2.9838,
            "count": 0
           },
           {
            "bin_start": 2.9838,
            "bin_end": 2.9911,
            "count": 1
           },
           {
            "bin_start": 2.9911,
            "bin_end": 2.9983999999999997,
            "count": 0
           },
           {
            "bin_start": 2.9983999999999997,
            "bin_end": 3.0057,
            "count": 1
           },
           {
            "bin_start": 3.0057,
            "bin_end": 3.013,
            "count": 1
           }
          ]
         }
        },
        {
         "name": "_deepnote_index_column",
         "dtype": "int64"
        }
       ],
       "rows": [
        {
         "Fecha_Cambio": "2002-02-01T00:00:00.000000",
         "TC_Soles_Dolares": 3.4757,
         "TC_Soles_Euros": 2.989,
         "_deepnote_index_column": 0
        },
        {
         "Fecha_Cambio": "2002-02-04T00:00:00.000000",
         "TC_Soles_Dolares": 3.4824,
         "TC_Soles_Euros": 2.94,
         "_deepnote_index_column": 1
        },
        {
         "Fecha_Cambio": "2002-02-05T00:00:00.000000",
         "TC_Soles_Dolares": 3.4846,
         "TC_Soles_Euros": 2.999,
         "_deepnote_index_column": 2
        },
        {
         "Fecha_Cambio": "2002-02-06T00:00:00.000000",
         "TC_Soles_Dolares": 3.4858,
         "TC_Soles_Euros": 2.946,
         "_deepnote_index_column": 3
        },
        {
         "Fecha_Cambio": "2002-02-07T00:00:00.000000",
         "TC_Soles_Dolares": 3.4835,
         "TC_Soles_Euros": 3.013,
         "_deepnote_index_column": 4
        }
       ]
      },
      "text/plain": "  Fecha_Cambio  TC_Soles_Dolares  TC_Soles_Euros\n0   2002-02-01            3.4757           2.989\n1   2002-02-04            3.4824           2.940\n2   2002-02-05            3.4846           2.999\n3   2002-02-06            3.4858           2.946\n4   2002-02-07            3.4835           3.013",
      "text/html": "<div>\n<style scoped>\n    .dataframe tbody tr th:only-of-type {\n        vertical-align: middle;\n    }\n\n    .dataframe tbody tr th {\n        vertical-align: top;\n    }\n\n    .dataframe thead th {\n        text-align: right;\n    }\n</style>\n<table border=\"1\" class=\"dataframe\">\n  <thead>\n    <tr style=\"text-align: right;\">\n      <th></th>\n      <th>Fecha_Cambio</th>\n      <th>TC_Soles_Dolares</th>\n      <th>TC_Soles_Euros</th>\n    </tr>\n  </thead>\n  <tbody>\n    <tr>\n      <th>0</th>\n      <td>2002-02-01</td>\n      <td>3.4757</td>\n      <td>2.989</td>\n    </tr>\n    <tr>\n      <th>1</th>\n      <td>2002-02-04</td>\n      <td>3.4824</td>\n      <td>2.940</td>\n    </tr>\n    <tr>\n      <th>2</th>\n      <td>2002-02-05</td>\n      <td>3.4846</td>\n      <td>2.999</td>\n    </tr>\n    <tr>\n      <th>3</th>\n      <td>2002-02-06</td>\n      <td>3.4858</td>\n      <td>2.946</td>\n    </tr>\n    <tr>\n      <th>4</th>\n      <td>2002-02-07</td>\n      <td>3.4835</td>\n      <td>3.013</td>\n    </tr>\n  </tbody>\n</table>\n</div>"
     },
     "metadata": {}
    }
   ]
  },
  {
   "cell_type": "code",
   "metadata": {
    "cell_id": "be52f7f6-5bce-4cdf-be46-2f20f5df7a9c",
    "tags": [],
    "deepnote_to_be_reexecuted": false,
    "source_hash": "838c0c28",
    "execution_start": 1643486534180,
    "execution_millis": 46,
    "deepnote_cell_type": "code"
   },
   "source": "df.tail()",
   "execution_count": 7,
   "outputs": [
    {
     "output_type": "execute_result",
     "execution_count": 7,
     "data": {
      "application/vnd.deepnote.dataframe.v3+json": {
       "column_count": 3,
       "row_count": 5,
       "columns": [
        {
         "name": "Fecha_Cambio",
         "dtype": "datetime64[ns]",
         "stats": {
          "unique_count": 5,
          "nan_count": 0,
          "min": "2022-01-19 00:00:00",
          "max": "2022-01-25 00:00:00",
          "histogram": [
           {
            "bin_start": 1642550400000000000,
            "bin_end": 1642602240000000000,
            "count": 1
           },
           {
            "bin_start": 1642602240000000000,
            "bin_end": 1642654080000000000,
            "count": 1
           },
           {
            "bin_start": 1642654080000000000,
            "bin_end": 1642705920000000000,
            "count": 0
           },
           {
            "bin_start": 1642705920000000000,
            "bin_end": 1642757760000000000,
            "count": 1
           },
           {
            "bin_start": 1642757760000000000,
            "bin_end": 1642809600000000000,
            "count": 0
           },
           {
            "bin_start": 1642809600000000000,
            "bin_end": 1642861440000000000,
            "count": 0
           },
           {
            "bin_start": 1642861440000000000,
            "bin_end": 1642913280000000000,
            "count": 0
           },
           {
            "bin_start": 1642913280000000000,
            "bin_end": 1642965120000000000,
            "count": 0
           },
           {
            "bin_start": 1642965120000000000,
            "bin_end": 1643016960000000000,
            "count": 1
           },
           {
            "bin_start": 1643016960000000000,
            "bin_end": 1643068800000000000,
            "count": 1
           }
          ]
         }
        },
        {
         "name": "TC_Soles_Dolares",
         "dtype": "float64",
         "stats": {
          "unique_count": 5,
          "nan_count": 0,
          "min": "3.8215",
          "max": "3.8625",
          "histogram": [
           {
            "bin_start": 3.8215,
            "bin_end": 3.8255999999999997,
            "count": 1
           },
           {
            "bin_start": 3.8255999999999997,
            "bin_end": 3.8297,
            "count": 0
           },
           {
            "bin_start": 3.8297,
            "bin_end": 3.8338,
            "count": 0
           },
           {
            "bin_start": 3.8338,
            "bin_end": 3.8379,
            "count": 0
           },
           {
            "bin_start": 3.8379,
            "bin_end": 3.8419999999999996,
            "count": 1
           },
           {
            "bin_start": 3.8419999999999996,
            "bin_end": 3.8461,
            "count": 1
           },
           {
            "bin_start": 3.8461,
            "bin_end": 3.8502,
            "count": 1
           },
           {
            "bin_start": 3.8502,
            "bin_end": 3.8543,
            "count": 0
           },
           {
            "bin_start": 3.8543,
            "bin_end": 3.8583999999999996,
            "count": 0
           },
           {
            "bin_start": 3.8583999999999996,
            "bin_end": 3.8625,
            "count": 1
           }
          ]
         }
        },
        {
         "name": "TC_Soles_Euros",
         "dtype": "float64",
         "stats": {
          "unique_count": 5,
          "nan_count": 0,
          "min": "4.153",
          "max": "4.337",
          "histogram": [
           {
            "bin_start": 4.153,
            "bin_end": 4.171399999999999,
            "count": 1
           },
           {
            "bin_start": 4.171399999999999,
            "bin_end": 4.1898,
            "count": 0
           },
           {
            "bin_start": 4.1898,
            "bin_end": 4.2082,
            "count": 0
           },
           {
            "bin_start": 4.2082,
            "bin_end": 4.2265999999999995,
            "count": 0
           },
           {
            "bin_start": 4.2265999999999995,
            "bin_end": 4.244999999999999,
            "count": 2
           },
           {
            "bin_start": 4.244999999999999,
            "bin_end": 4.2634,
            "count": 1
           },
           {
            "bin_start": 4.2634,
            "bin_end": 4.2818,
            "count": 0
           },
           {
            "bin_start": 4.2818,
            "bin_end": 4.300199999999999,
            "count": 0
           },
           {
            "bin_start": 4.300199999999999,
            "bin_end": 4.3186,
            "count": 0
           },
           {
            "bin_start": 4.3186,
            "bin_end": 4.337,
            "count": 1
           }
          ]
         }
        },
        {
         "name": "_deepnote_index_column",
         "dtype": "int64"
        }
       ],
       "rows": [
        {
         "Fecha_Cambio": "2022-01-19T00:00:00.000000",
         "TC_Soles_Dolares": 3.8625,
         "TC_Soles_Euros": 4.251,
         "_deepnote_index_column": 4963
        },
        {
         "Fecha_Cambio": "2022-01-20T00:00:00.000000",
         "TC_Soles_Dolares": 3.84466666666667,
         "TC_Soles_Euros": 4.153,
         "_deepnote_index_column": 4964
        },
        {
         "Fecha_Cambio": "2022-01-21T00:00:00.000000",
         "TC_Soles_Dolares": 3.8215,
         "TC_Soles_Euros": 4.227,
         "_deepnote_index_column": 4965
        },
        {
         "Fecha_Cambio": "2022-01-24T00:00:00.000000",
         "TC_Soles_Dolares": 3.839,
         "TC_Soles_Euros": 4.242,
         "_deepnote_index_column": 4966
        },
        {
         "Fecha_Cambio": "2022-01-25T00:00:00.000000",
         "TC_Soles_Dolares": 3.8475,
         "TC_Soles_Euros": 4.337,
         "_deepnote_index_column": 4967
        }
       ]
      },
      "text/plain": "     Fecha_Cambio  TC_Soles_Dolares  TC_Soles_Euros\n4963   2022-01-19          3.862500           4.251\n4964   2022-01-20          3.844667           4.153\n4965   2022-01-21          3.821500           4.227\n4966   2022-01-24          3.839000           4.242\n4967   2022-01-25          3.847500           4.337",
      "text/html": "<div>\n<style scoped>\n    .dataframe tbody tr th:only-of-type {\n        vertical-align: middle;\n    }\n\n    .dataframe tbody tr th {\n        vertical-align: top;\n    }\n\n    .dataframe thead th {\n        text-align: right;\n    }\n</style>\n<table border=\"1\" class=\"dataframe\">\n  <thead>\n    <tr style=\"text-align: right;\">\n      <th></th>\n      <th>Fecha_Cambio</th>\n      <th>TC_Soles_Dolares</th>\n      <th>TC_Soles_Euros</th>\n    </tr>\n  </thead>\n  <tbody>\n    <tr>\n      <th>4963</th>\n      <td>2022-01-19</td>\n      <td>3.862500</td>\n      <td>4.251</td>\n    </tr>\n    <tr>\n      <th>4964</th>\n      <td>2022-01-20</td>\n      <td>3.844667</td>\n      <td>4.153</td>\n    </tr>\n    <tr>\n      <th>4965</th>\n      <td>2022-01-21</td>\n      <td>3.821500</td>\n      <td>4.227</td>\n    </tr>\n    <tr>\n      <th>4966</th>\n      <td>2022-01-24</td>\n      <td>3.839000</td>\n      <td>4.242</td>\n    </tr>\n    <tr>\n      <th>4967</th>\n      <td>2022-01-25</td>\n      <td>3.847500</td>\n      <td>4.337</td>\n    </tr>\n  </tbody>\n</table>\n</div>"
     },
     "metadata": {}
    }
   ]
  },
  {
   "cell_type": "code",
   "metadata": {
    "cell_id": "a4c54669-356b-49a8-bf9f-241ab1ca0e87",
    "tags": [],
    "deepnote_to_be_reexecuted": false,
    "source_hash": "f52035d0",
    "execution_start": 1643486534224,
    "execution_millis": 1,
    "deepnote_cell_type": "code"
   },
   "source": "# Se pone como indice la fecha de cambio\ndf = df.set_index(\"Fecha_Cambio\")",
   "execution_count": 8,
   "outputs": []
  },
  {
   "cell_type": "code",
   "metadata": {
    "cell_id": "ca5e7098-1bac-470c-8aaf-182cd43cfb8c",
    "tags": [],
    "deepnote_to_be_reexecuted": false,
    "source_hash": "ef7c54d8",
    "execution_start": 1643486534225,
    "execution_millis": 70,
    "deepnote_table_state": {
     "pageSize": 10,
     "pageIndex": 496,
     "filters": [],
     "sortBy": []
    },
    "deepnote_table_loading": false,
    "deepnote_cell_type": "code"
   },
   "source": "df.head(-1)",
   "execution_count": 9,
   "outputs": [
    {
     "output_type": "execute_result",
     "execution_count": 9,
     "data": {
      "application/vnd.deepnote.dataframe.v3+json": {
       "column_count": 2,
       "row_count": 4967,
       "columns": [
        {
         "name": "TC_Soles_Dolares",
         "dtype": "float64",
         "stats": {
          "unique_count": 3720,
          "nan_count": 0,
          "min": "2.53871428571429",
          "max": "4.13483333333333",
          "histogram": [
           {
            "bin_start": 2.53871428571429,
            "bin_end": 2.698326190476194,
            "count": 360
           },
           {
            "bin_start": 2.698326190476194,
            "bin_end": 2.857938095238098,
            "count": 880
           },
           {
            "bin_start": 2.857938095238098,
            "bin_end": 3.017550000000002,
            "count": 408
           },
           {
            "bin_start": 3.017550000000002,
            "bin_end": 3.177161904761906,
            "count": 350
           },
           {
            "bin_start": 3.177161904761906,
            "bin_end": 3.33677380952381,
            "count": 1324
           },
           {
            "bin_start": 3.33677380952381,
            "bin_end": 3.496385714285714,
            "count": 1074
           },
           {
            "bin_start": 3.496385714285714,
            "bin_end": 3.655997619047618,
            "count": 353
           },
           {
            "bin_start": 3.655997619047618,
            "bin_end": 3.8156095238095222,
            "count": 46
           },
           {
            "bin_start": 3.8156095238095222,
            "bin_end": 3.9752214285714262,
            "count": 73
           },
           {
            "bin_start": 3.9752214285714262,
            "bin_end": 4.13483333333333,
            "count": 99
           }
          ]
         }
        },
        {
         "name": "TC_Soles_Euros",
         "dtype": "float64",
         "stats": {
          "unique_count": 1394,
          "nan_count": 0,
          "min": "2.809",
          "max": "4.859",
          "histogram": [
           {
            "bin_start": 2.809,
            "bin_end": 3.0140000000000002,
            "count": 32
           },
           {
            "bin_start": 3.0140000000000002,
            "bin_end": 3.2190000000000003,
            "count": 96
           },
           {
            "bin_start": 3.2190000000000003,
            "bin_end": 3.4240000000000004,
            "count": 446
           },
           {
            "bin_start": 3.4240000000000004,
            "bin_end": 3.629,
            "count": 830
           },
           {
            "bin_start": 3.629,
            "bin_end": 3.834,
            "count": 1314
           },
           {
            "bin_start": 3.834,
            "bin_end": 4.039,
            "count": 656
           },
           {
            "bin_start": 4.039,
            "bin_end": 4.244,
            "count": 864
           },
           {
            "bin_start": 4.244,
            "bin_end": 4.449,
            "count": 553
           },
           {
            "bin_start": 4.449,
            "bin_end": 4.654,
            "count": 120
           },
           {
            "bin_start": 4.654,
            "bin_end": 4.859,
            "count": 56
           }
          ]
         }
        },
        {
         "name": "_deepnote_index_column",
         "dtype": "datetime64[ns]"
        }
       ],
       "rows": [
        {
         "TC_Soles_Dolares": 3.87033333333333,
         "TC_Soles_Euros": 4.344,
         "_deepnote_index_column": "2022-01-14T00:00:00.000000"
        },
        {
         "TC_Soles_Dolares": 3.84766666666667,
         "TC_Soles_Euros": 4.371,
         "_deepnote_index_column": "2022-01-17T00:00:00.000000"
        },
        {
         "TC_Soles_Dolares": 3.85283333333333,
         "TC_Soles_Euros": 4.276,
         "_deepnote_index_column": "2022-01-18T00:00:00.000000"
        },
        {
         "TC_Soles_Dolares": 3.8625,
         "TC_Soles_Euros": 4.251,
         "_deepnote_index_column": "2022-01-19T00:00:00.000000"
        },
        {
         "TC_Soles_Dolares": 3.84466666666667,
         "TC_Soles_Euros": 4.153,
         "_deepnote_index_column": "2022-01-20T00:00:00.000000"
        },
        {
         "TC_Soles_Dolares": 3.8215,
         "TC_Soles_Euros": 4.227,
         "_deepnote_index_column": "2022-01-21T00:00:00.000000"
        },
        {
         "TC_Soles_Dolares": 3.839,
         "TC_Soles_Euros": 4.242,
         "_deepnote_index_column": "2022-01-24T00:00:00.000000"
        }
       ]
      },
      "text/plain": "              TC_Soles_Dolares  TC_Soles_Euros\nFecha_Cambio                                  \n2002-02-01            3.475700           2.989\n2002-02-04            3.482400           2.940\n2002-02-05            3.484600           2.999\n2002-02-06            3.485800           2.946\n2002-02-07            3.483500           3.013\n...                        ...             ...\n2022-01-18            3.852833           4.276\n2022-01-19            3.862500           4.251\n2022-01-20            3.844667           4.153\n2022-01-21            3.821500           4.227\n2022-01-24            3.839000           4.242\n\n[4967 rows x 2 columns]",
      "text/html": "<div>\n<style scoped>\n    .dataframe tbody tr th:only-of-type {\n        vertical-align: middle;\n    }\n\n    .dataframe tbody tr th {\n        vertical-align: top;\n    }\n\n    .dataframe thead th {\n        text-align: right;\n    }\n</style>\n<table border=\"1\" class=\"dataframe\">\n  <thead>\n    <tr style=\"text-align: right;\">\n      <th></th>\n      <th>TC_Soles_Dolares</th>\n      <th>TC_Soles_Euros</th>\n    </tr>\n    <tr>\n      <th>Fecha_Cambio</th>\n      <th></th>\n      <th></th>\n    </tr>\n  </thead>\n  <tbody>\n    <tr>\n      <th>2002-02-01</th>\n      <td>3.475700</td>\n      <td>2.989</td>\n    </tr>\n    <tr>\n      <th>2002-02-04</th>\n      <td>3.482400</td>\n      <td>2.940</td>\n    </tr>\n    <tr>\n      <th>2002-02-05</th>\n      <td>3.484600</td>\n      <td>2.999</td>\n    </tr>\n    <tr>\n      <th>2002-02-06</th>\n      <td>3.485800</td>\n      <td>2.946</td>\n    </tr>\n    <tr>\n      <th>2002-02-07</th>\n      <td>3.483500</td>\n      <td>3.013</td>\n    </tr>\n    <tr>\n      <th>...</th>\n      <td>...</td>\n      <td>...</td>\n    </tr>\n    <tr>\n      <th>2022-01-18</th>\n      <td>3.852833</td>\n      <td>4.276</td>\n    </tr>\n    <tr>\n      <th>2022-01-19</th>\n      <td>3.862500</td>\n      <td>4.251</td>\n    </tr>\n    <tr>\n      <th>2022-01-20</th>\n      <td>3.844667</td>\n      <td>4.153</td>\n    </tr>\n    <tr>\n      <th>2022-01-21</th>\n      <td>3.821500</td>\n      <td>4.227</td>\n    </tr>\n    <tr>\n      <th>2022-01-24</th>\n      <td>3.839000</td>\n      <td>4.242</td>\n    </tr>\n  </tbody>\n</table>\n<p>4967 rows × 2 columns</p>\n</div>"
     },
     "metadata": {}
    }
   ]
  },
  {
   "cell_type": "code",
   "metadata": {
    "cell_id": "13d89a3c-1443-46bc-9d17-74c46266d240",
    "tags": [],
    "deepnote_to_be_reexecuted": false,
    "source_hash": "ac6ea706",
    "execution_start": 1643486534297,
    "execution_millis": 239,
    "deepnote_output_heights": [
     21.1875,
     253
    ],
    "deepnote_cell_type": "code"
   },
   "source": "# Mostramos imagen de la variacion del tipo de cambio del dolar en el tiempo\nplt.plot(df.TC_Soles_Dolares)",
   "execution_count": 10,
   "outputs": [
    {
     "output_type": "execute_result",
     "execution_count": 10,
     "data": {
      "text/plain": "[<matplotlib.lines.Line2D at 0x7fa7f315edd0>]"
     },
     "metadata": {}
    },
    {
     "data": {
      "text/plain": "<Figure size 432x288 with 1 Axes>",
      "image/png": "[encoded data removed]"
     },
     "metadata": {
      "needs_background": "light",
      "image/png": {
       "width": 372,
       "height": 251
      }
     },
     "output_type": "display_data"
    }
   ]
  },
  {
   "cell_type": "code",
   "metadata": {
    "cell_id": "5e42371c-e1ef-4a63-88bd-6ae7868cf6f5",
    "tags": [],
    "deepnote_to_be_reexecuted": false,
    "source_hash": "14f60b8f",
    "execution_start": 1643486534560,
    "execution_millis": 18,
    "deepnote_output_heights": [
     21.1875
    ],
    "deepnote_cell_type": "code"
   },
   "source": "df.shape",
   "execution_count": 11,
   "outputs": [
    {
     "output_type": "execute_result",
     "execution_count": 11,
     "data": {
      "text/plain": "(4968, 2)"
     },
     "metadata": {}
    }
   ]
  },
  {
   "cell_type": "markdown",
   "source": "## Entrenamiento sol_dolar",
   "metadata": {
    "cell_id": "6163b187-bc36-484d-a396-ff9c76756c59",
    "tags": [],
    "deepnote_cell_type": "markdown"
   }
  },
  {
   "cell_type": "code",
   "metadata": {
    "cell_id": "b6c1a791-77e3-4466-8f9b-54499769aa56",
    "tags": [],
    "deepnote_to_be_reexecuted": false,
    "source_hash": "18a6e12c",
    "execution_start": 1643486534561,
    "execution_millis": 17,
    "deepnote_output_heights": [
     21.1875
    ],
    "deepnote_cell_type": "code"
   },
   "source": "# Cree un nuevo conjunto de datos con solo la columna TC_Soles_Dolares\ndata = df.filter(['TC_Soles_Dolares'])\n\n# Convierte el conjunto de datos en una matriz numpy\ndataset = data.values\n\n# Obtenemos el número de filas para entrenar el modelo\ntraining_data_len = int(np.ceil( len(dataset) * .95 ))\n\ntraining_data_len",
   "execution_count": 12,
   "outputs": [
    {
     "output_type": "execute_result",
     "execution_count": 12,
     "data": {
      "text/plain": "4720"
     },
     "metadata": {}
    }
   ]
  },
  {
   "cell_type": "code",
   "metadata": {
    "cell_id": "097a5ba7-dd6f-443b-a35c-5ec1e6085d24",
    "tags": [],
    "deepnote_to_be_reexecuted": false,
    "source_hash": "21827e90",
    "execution_start": 1643486534562,
    "execution_millis": 570,
    "deepnote_output_heights": [
     136.390625
    ],
    "deepnote_cell_type": "code"
   },
   "source": "# Escalamos la data\nfrom sklearn.preprocessing import MinMaxScaler\n\nscaler = MinMaxScaler(feature_range=(0,1))\nscaled_data = scaler.fit_transform(dataset)\n\nscaled_data",
   "execution_count": 13,
   "outputs": [
    {
     "output_type": "execute_result",
     "execution_count": 13,
     "data": {
      "text/plain": "array([[0.58703999],\n       [0.59123767],\n       [0.59261602],\n       ...,\n       [0.8036905 ],\n       [0.81465459],\n       [0.81998001]])"
     },
     "metadata": {}
    }
   ]
  },
  {
   "cell_type": "code",
   "metadata": {
    "cell_id": "c6777d64-5856-4b2b-acd0-5c2c72bdfa9e",
    "tags": [],
    "deepnote_to_be_reexecuted": false,
    "source_hash": "7864a916",
    "execution_start": 1643486535175,
    "execution_millis": 16,
    "deepnote_cell_type": "code"
   },
   "source": "# Creamos el conjunto de datos de entrenamiento\n# Creamos el conjunto de datos de entrenamiento escalado\ntrain_data = scaled_data[0:int(training_data_len), :]\n\n# Dividimos los datos en conjuntos de datos x_train y y_train\nx_train = []\ny_train = []\n\nfor i in range(60, len(train_data)):\n    x_train.append(train_data[i-60:i, 0])\n    y_train.append(train_data[i, 0])\n    if i<= 61:\n        print(x_train)\n        print(y_train)\n        print()\n        \n# Convierte x_train y y_train en matrices numpy\nx_train, y_train = np.array(x_train), np.array(y_train)\n\n# Reformamos los datos\nx_train = np.reshape(x_train, (x_train.shape[0], x_train.shape[1], 1))\n# x_train.shape",
   "execution_count": 14,
   "outputs": [
    {
     "name": "stdout",
     "text": "[array([0.58703999, 0.59123767, 0.59261602, 0.59336784, 0.59192685,\n       0.59386906, 0.59224011, 0.58584961, 0.58584961, 0.58578695,\n       0.58215314, 0.58190253, 0.58378209, 0.58534839, 0.58660143,\n       0.58891955, 0.58591226, 0.58490983, 0.58303027, 0.58321822,\n       0.58240375, 0.57826872, 0.5760759 , 0.57532407, 0.57263004,\n       0.57388308, 0.57244208, 0.571377  , 0.57100109, 0.57263004,\n       0.57319391, 0.57432164, 0.57444695, 0.57419634, 0.57319391,\n       0.57200352, 0.57081313, 0.56761788, 0.5666781 , 0.57156496,\n       0.57018661, 0.56830705, 0.56686606, 0.56711667, 0.56586363,\n       0.56548772, 0.56605158, 0.56417202, 0.5632949 , 0.55778152,\n       0.55753092, 0.55828274, 0.55646583, 0.557155  , 0.55909721,\n       0.56160329, 0.56291899, 0.56279368, 0.56222981, 0.56066351])]\n[0.560350254337157]\n\n[array([0.58703999, 0.59123767, 0.59261602, 0.59336784, 0.59192685,\n       0.59386906, 0.59224011, 0.58584961, 0.58584961, 0.58578695,\n       0.58215314, 0.58190253, 0.58378209, 0.58534839, 0.58660143,\n       0.58891955, 0.58591226, 0.58490983, 0.58303027, 0.58321822,\n       0.58240375, 0.57826872, 0.5760759 , 0.57532407, 0.57263004,\n       0.57388308, 0.57244208, 0.571377  , 0.57100109, 0.57263004,\n       0.57319391, 0.57432164, 0.57444695, 0.57419634, 0.57319391,\n       0.57200352, 0.57081313, 0.56761788, 0.5666781 , 0.57156496,\n       0.57018661, 0.56830705, 0.56686606, 0.56711667, 0.56586363,\n       0.56548772, 0.56605158, 0.56417202, 0.5632949 , 0.55778152,\n       0.55753092, 0.55828274, 0.55646583, 0.557155  , 0.55909721,\n       0.56160329, 0.56291899, 0.56279368, 0.56222981, 0.56066351]), array([0.59123767, 0.59261602, 0.59336784, 0.59192685, 0.59386906,\n       0.59224011, 0.58584961, 0.58584961, 0.58578695, 0.58215314,\n       0.58190253, 0.58378209, 0.58534839, 0.58660143, 0.58891955,\n       0.58591226, 0.58490983, 0.58303027, 0.58321822, 0.58240375,\n       0.57826872, 0.5760759 , 0.57532407, 0.57263004, 0.57388308,\n       0.57244208, 0.571377  , 0.57100109, 0.57263004, 0.57319391,\n       0.57432164, 0.57444695, 0.57419634, 0.57319391, 0.57200352,\n       0.57081313, 0.56761788, 0.5666781 , 0.57156496, 0.57018661,\n       0.56830705, 0.56686606, 0.56711667, 0.56586363, 0.56548772,\n       0.56605158, 0.56417202, 0.5632949 , 0.55778152, 0.55753092,\n       0.55828274, 0.55646583, 0.557155  , 0.55909721, 0.56160329,\n       0.56291899, 0.56279368, 0.56222981, 0.56066351, 0.56035025])]\n[0.560350254337157, 0.5617285976401087]\n\n",
     "output_type": "stream"
    }
   ]
  },
  {
   "cell_type": "markdown",
   "source": "## Red LSTM",
   "metadata": {
    "cell_id": "69542b57-83bd-4760-8168-5b10f2d0bda0",
    "tags": [],
    "deepnote_cell_type": "markdown"
   }
  },
  {
   "cell_type": "code",
   "metadata": {
    "cell_id": "656c9072-7413-46db-a5c3-e239b1b1fe33",
    "tags": [],
    "deepnote_to_be_reexecuted": false,
    "source_hash": "be5d4e3",
    "execution_start": 1643486535176,
    "execution_millis": 156395,
    "deepnote_output_heights": [
     null,
     21.1875
    ],
    "deepnote_cell_type": "code"
   },
   "source": "from tensorflow.keras.models import Sequential\nfrom tensorflow.keras.layers import Dense, LSTM\n\n# Construyendo el modelo LSTM\nmodel = Sequential()\nmodel.add(LSTM(128, return_sequences=True, input_shape= (x_train.shape[1], 1)))\nmodel.add(LSTM(64, return_sequences=False))\nmodel.add(Dense(25))\nmodel.add(Dense(1))\n\n# Complilando el modelo\nmodel.compile(optimizer='adam', loss='mean_squared_error')\n\n# Entrenando el modelo\nmodel.fit(x_train, y_train, batch_size=1, epochs=1)",
   "execution_count": 15,
   "outputs": [
    {
     "name": "stdout",
     "text": "",
     "output_type": "stream"
    },
    {
     "name": "stdout",
     "text": "",
     "output_type": "stream"
    },
    {
     "name": "stdout",
     "text": "4660/4660 [==============================] - 150s 32ms/step - loss: 9.9845e-04\n",
     "output_type": "stream"
    },
    {
     "output_type": "execute_result",
     "execution_count": 15,
     "data": {
      "text/plain": "<tensorflow.python.keras.callbacks.History at 0x7fa79d5de850>"
     },
     "metadata": {}
    }
   ]
  },
  {
   "cell_type": "code",
   "metadata": {
    "cell_id": "0c1c15fa-0a91-4aa3-96f0-bec9fece1a97",
    "tags": [],
    "deepnote_to_be_reexecuted": false,
    "source_hash": "7c9bd611",
    "execution_start": 1643486691823,
    "execution_millis": 34,
    "deepnote_cell_type": "code"
   },
   "source": "#Guardando el modelo\nmodel.save('keras_model1.h5')",
   "execution_count": 16,
   "outputs": []
  },
  {
   "cell_type": "code",
   "metadata": {
    "cell_id": "20dcd5e9-6db0-415f-9442-d387e2c6a644",
    "tags": [],
    "deepnote_to_be_reexecuted": false,
    "source_hash": "c70b40c1",
    "execution_start": 1643486691864,
    "execution_millis": 809,
    "deepnote_output_heights": [
     21.1875
    ],
    "deepnote_cell_type": "code"
   },
   "source": "# Creamos el conjunto de datos de prueba\ntest_data = scaled_data[training_data_len - 60: , :]\n\n# Creamos los conjuntos de datos x_test y y_test\nx_test = []\ny_test = dataset[training_data_len:, :]\nfor i in range(60, len(test_data)):\n    x_test.append(test_data[i-60:i, 0])\n    \n# Convert the data to a numpy array\n# Convierte los datos en una matriz numpy\nx_test = np.array(x_test)\n\n# Reshape the data\n# Reforma los datos\nx_test = np.reshape(x_test, (x_test.shape[0], x_test.shape[1], 1 ))\n\n# Get the models predicted price values \n# Obtenga los valores de precios predichos de los modelos\npredictions = model.predict(x_test)\npredictions = scaler.inverse_transform(predictions)\n\n# Get the root mean squared error (RMSE)\n# Obtener la raíz del error cuadrático medio (RMSE)\nrmse = np.sqrt(np.mean(((predictions - y_test) ** 2)))\nrmse",
   "execution_count": 17,
   "outputs": [
    {
     "output_type": "execute_result",
     "execution_count": 17,
     "data": {
      "text/plain": "0.027451927483925005"
     },
     "metadata": {}
    }
   ]
  },
  {
   "cell_type": "code",
   "metadata": {
    "cell_id": "88806fe4-1a02-427b-85f4-30a4f87374c7",
    "tags": [],
    "deepnote_to_be_reexecuted": false,
    "source_hash": "cd3d8a4b",
    "execution_start": 1643486692681,
    "execution_millis": 278,
    "deepnote_output_heights": [
     null,
     384.703125
    ],
    "deepnote_cell_type": "code"
   },
   "source": "# Graficamos los datos\ntrain = data[:training_data_len]\nvalid = data[training_data_len:]\nvalid['Predictions'] = predictions\n# Visualizamos la comparacion de entrenamiento, validacion y prediccion\nplt.figure(figsize=(16,6))\nplt.title('Model')\nplt.xlabel('Tiempo', fontsize=18)\nplt.ylabel('Precio dolar ($)', fontsize=18)\nplt.plot(train['TC_Soles_Dolares'])\nplt.plot(valid[['TC_Soles_Dolares', 'Predictions']])\nplt.legend(['Train', 'Val', 'Predictions'], loc='lower right')\nplt.show()",
   "execution_count": 18,
   "outputs": [
    {
     "name": "stderr",
     "text": "/shared-libs/python3.7/py-core/lib/python3.7/site-packages/ipykernel_launcher.py:4: SettingWithCopyWarning: \nA value is trying to be set on a copy of a slice from a DataFrame.\nTry using .loc[row_indexer,col_indexer] = value instead\n\nSee the caveats in the documentation: https://pandas.pydata.org/pandas-docs/stable/user_guide/indexing.html#returning-a-view-versus-a-copy\n  after removing the cwd from sys.path.\n",
     "output_type": "stream"
    },
    {
     "data": {
      "text/plain": "<Figure size 1152x432 with 1 Axes>",
      "image/png": "[encoded data removed]"
     },
     "metadata": {
      "needs_background": "light",
      "image/png": {
       "width": 952,
       "height": 395
      }
     },
     "output_type": "display_data"
    }
   ]
  },
  {
   "cell_type": "code",
   "metadata": {
    "cell_id": "a3f06dc0-5f5c-4393-85e8-aa718f1e0458",
    "tags": [],
    "deepnote_to_be_reexecuted": false,
    "source_hash": "56ec79aa",
    "execution_start": 1643486692965,
    "execution_millis": 231,
    "deepnote_output_heights": [
     373
    ],
    "deepnote_cell_type": "code"
   },
   "source": "# Visuslaizamos una grafica del Precio predecido vs Precio Original\nplt.figure(figsize=(12,6))\nplt.plot(y_test, 'b', label = 'Precio Original')\nplt.plot(predictions, 'r', label= 'Precio Predecido')\nplt.xlabel('Tiempo')\nplt.ylabel('Precio')\nplt.legend()\nplt.show()",
   "execution_count": 19,
   "outputs": [
    {
     "data": {
      "text/plain": "<Figure size 864x432 with 1 Axes>",
      "image/png": "[encoded data removed]"
     },
     "metadata": {
      "needs_background": "light",
      "image/png": {
       "width": 720,
       "height": 371
      }
     },
     "output_type": "display_data"
    }
   ]
  },
  {
   "cell_type": "code",
   "metadata": {
    "cell_id": "6f487f69-00c9-491e-9ea3-2bfdaf17ea8f",
    "tags": [],
    "deepnote_to_be_reexecuted": false,
    "source_hash": "ad24b47e",
    "execution_start": 1643486693238,
    "execution_millis": 4,
    "deepnote_table_state": {
     "pageSize": 10,
     "pageIndex": 0,
     "filters": [],
     "sortBy": []
    },
    "deepnote_table_loading": false,
    "deepnote_cell_type": "code"
   },
   "source": "# Mostramos los precios válidos y los previstos del dolar\nvalid",
   "execution_count": 20,
   "outputs": [
    {
     "output_type": "execute_result",
     "execution_count": 20,
     "data": {
      "application/vnd.deepnote.dataframe.v3+json": {
       "column_count": 2,
       "row_count": 248,
       "columns": [
        {
         "name": "TC_Soles_Dolares",
         "dtype": "float64",
         "stats": {
          "unique_count": 236,
          "nan_count": 0,
          "min": "3.593",
          "max": "4.13483333333333",
          "histogram": [
           {
            "bin_start": 3.593,
            "bin_end": 3.647183333333333,
            "count": 21
           },
           {
            "bin_start": 3.647183333333333,
            "bin_end": 3.701366666666666,
            "count": 21
           },
           {
            "bin_start": 3.701366666666666,
            "bin_end": 3.755549999999999,
            "count": 23
           },
           {
            "bin_start": 3.755549999999999,
            "bin_end": 3.809733333333332,
            "count": 9
           },
           {
            "bin_start": 3.809733333333332,
            "bin_end": 3.863916666666665,
            "count": 23
           },
           {
            "bin_start": 3.863916666666665,
            "bin_end": 3.918099999999998,
            "count": 17
           },
           {
            "bin_start": 3.918099999999998,
            "bin_end": 3.972283333333331,
            "count": 34
           },
           {
            "bin_start": 3.972283333333331,
            "bin_end": 4.026466666666664,
            "count": 31
           },
           {
            "bin_start": 4.026466666666664,
            "bin_end": 4.080649999999997,
            "count": 29
           },
           {
            "bin_start": 4.080649999999997,
            "bin_end": 4.13483333333333,
            "count": 40
           }
          ]
         }
        },
        {
         "name": "Predictions",
         "dtype": "float32",
         "stats": {
          "unique_count": 248,
          "nan_count": 0,
          "min": "3.5892887115478516",
          "max": "4.119476318359375",
          "histogram": [
           {
            "bin_start": 3.5892887115478516,
            "bin_end": 3.6423075199127197,
            "count": 23
           },
           {
            "bin_start": 3.6423075199127197,
            "bin_end": 3.695326328277588,
            "count": 23
           },
           {
            "bin_start": 3.695326328277588,
            "bin_end": 3.748344898223877,
            "count": 20
           },
           {
            "bin_start": 3.748344898223877,
            "bin_end": 3.801363706588745,
            "count": 12
           },
           {
            "bin_start": 3.801363706588745,
            "bin_end": 3.8543825149536133,
            "count": 17
           },
           {
            "bin_start": 3.8543825149536133,
            "bin_end": 3.9074013233184814,
            "count": 18
           },
           {
            "bin_start": 3.9074013233184814,
            "bin_end": 3.9604201316833496,
            "count": 30
           },
           {
            "bin_start": 3.9604201316833496,
            "bin_end": 4.013438701629639,
            "count": 36
           },
           {
            "bin_start": 4.013438701629639,
            "bin_end": 4.066457748413086,
            "count": 35
           },
           {
            "bin_start": 4.066457748413086,
            "bin_end": 4.119476318359375,
            "count": 34
           }
          ]
         }
        },
        {
         "name": "_deepnote_index_column",
         "dtype": "datetime64[ns]"
        }
       ],
       "rows": [
        {
         "TC_Soles_Dolares": 3.63733333333333,
         "Predictions": 3.633012533187866,
         "_deepnote_index_column": "2021-02-01T00:00:00.000000"
        },
        {
         "TC_Soles_Dolares": 3.63683333333333,
         "Predictions": 3.62886381149292,
         "_deepnote_index_column": "2021-02-02T00:00:00.000000"
        },
        {
         "TC_Soles_Dolares": 3.63616666666667,
         "Predictions": 3.6272385120391846,
         "_deepnote_index_column": "2021-02-03T00:00:00.000000"
        },
        {
         "TC_Soles_Dolares": 3.6435,
         "Predictions": 3.6270592212677,
         "_deepnote_index_column": "2021-02-04T00:00:00.000000"
        },
        {
         "TC_Soles_Dolares": 3.6365,
         "Predictions": 3.631857395172119,
         "_deepnote_index_column": "2021-02-05T00:00:00.000000"
        },
        {
         "TC_Soles_Dolares": 3.6415,
         "Predictions": 3.63159441947937,
         "_deepnote_index_column": "2021-02-08T00:00:00.000000"
        },
        {
         "TC_Soles_Dolares": 3.641,
         "Predictions": 3.6335525512695312,
         "_deepnote_index_column": "2021-02-09T00:00:00.000000"
        },
        {
         "TC_Soles_Dolares": 3.63666666666667,
         "Predictions": 3.6346514225006104,
         "_deepnote_index_column": "2021-02-10T00:00:00.000000"
        },
        {
         "TC_Soles_Dolares": 3.63783333333333,
         "Predictions": 3.632629632949829,
         "_deepnote_index_column": "2021-02-11T00:00:00.000000"
        },
        {
         "TC_Soles_Dolares": 3.64383333333333,
         "Predictions": 3.631711006164551,
         "_deepnote_index_column": "2021-02-12T00:00:00.000000"
        }
       ]
      },
      "text/plain": "              TC_Soles_Dolares  Predictions\nFecha_Cambio                               \n2021-02-01            3.637333     3.633013\n2021-02-02            3.636833     3.628864\n2021-02-03            3.636167     3.627239\n2021-02-04            3.643500     3.627059\n2021-02-05            3.636500     3.631857\n...                        ...          ...\n2022-01-19            3.862500     3.851080\n2022-01-20            3.844667     3.857653\n2022-01-21            3.821500     3.853208\n2022-01-24            3.839000     3.836057\n2022-01-25            3.847500     3.835866\n\n[248 rows x 2 columns]",
      "text/html": "<div>\n<style scoped>\n    .dataframe tbody tr th:only-of-type {\n        vertical-align: middle;\n    }\n\n    .dataframe tbody tr th {\n        vertical-align: top;\n    }\n\n    .dataframe thead th {\n        text-align: right;\n    }\n</style>\n<table border=\"1\" class=\"dataframe\">\n  <thead>\n    <tr style=\"text-align: right;\">\n      <th></th>\n      <th>TC_Soles_Dolares</th>\n      <th>Predictions</th>\n    </tr>\n    <tr>\n      <th>Fecha_Cambio</th>\n      <th></th>\n      <th></th>\n    </tr>\n  </thead>\n  <tbody>\n    <tr>\n      <th>2021-02-01</th>\n      <td>3.637333</td>\n      <td>3.633013</td>\n    </tr>\n    <tr>\n      <th>2021-02-02</th>\n      <td>3.636833</td>\n      <td>3.628864</td>\n    </tr>\n    <tr>\n      <th>2021-02-03</th>\n      <td>3.636167</td>\n      <td>3.627239</td>\n    </tr>\n    <tr>\n      <th>2021-02-04</th>\n      <td>3.643500</td>\n      <td>3.627059</td>\n    </tr>\n    <tr>\n      <th>2021-02-05</th>\n      <td>3.636500</td>\n      <td>3.631857</td>\n    </tr>\n    <tr>\n      <th>...</th>\n      <td>...</td>\n      <td>...</td>\n    </tr>\n    <tr>\n      <th>2022-01-19</th>\n      <td>3.862500</td>\n      <td>3.851080</td>\n    </tr>\n    <tr>\n      <th>2022-01-20</th>\n      <td>3.844667</td>\n      <td>3.857653</td>\n    </tr>\n    <tr>\n      <th>2022-01-21</th>\n      <td>3.821500</td>\n      <td>3.853208</td>\n    </tr>\n    <tr>\n      <th>2022-01-24</th>\n      <td>3.839000</td>\n      <td>3.836057</td>\n    </tr>\n    <tr>\n      <th>2022-01-25</th>\n      <td>3.847500</td>\n      <td>3.835866</td>\n    </tr>\n  </tbody>\n</table>\n<p>248 rows × 2 columns</p>\n</div>"
     },
     "metadata": {}
    }
   ]
  },
  {
   "cell_type": "markdown",
   "source": "# Entrenamiento sol_Euro",
   "metadata": {
    "cell_id": "a4314117-7c96-48bb-83bb-0df4b803fd38",
    "tags": [],
    "deepnote_cell_type": "markdown"
   }
  },
  {
   "cell_type": "code",
   "metadata": {
    "cell_id": "8f801ff5-e4be-4534-9919-93c0ab76f6e4",
    "tags": [],
    "deepnote_to_be_reexecuted": false,
    "source_hash": "c085b6ba",
    "execution_start": 1643486693278,
    "execution_millis": 2,
    "deepnote_cell_type": "code"
   },
   "source": "df.head()",
   "execution_count": 21,
   "outputs": [
    {
     "output_type": "execute_result",
     "execution_count": 21,
     "data": {
      "application/vnd.deepnote.dataframe.v3+json": {
       "column_count": 2,
       "row_count": 5,
       "columns": [
        {
         "name": "TC_Soles_Dolares",
         "dtype": "float64",
         "stats": {
          "unique_count": 5,
          "nan_count": 0,
          "min": "3.4757",
          "max": "3.4858",
          "histogram": [
           {
            "bin_start": 3.4757,
            "bin_end": 3.4767099999999997,
            "count": 1
           },
           {
            "bin_start": 3.4767099999999997,
            "bin_end": 3.4777199999999997,
            "count": 0
           },
           {
            "bin_start": 3.4777199999999997,
            "bin_end": 3.4787299999999997,
            "count": 0
           },
           {
            "bin_start": 3.4787299999999997,
            "bin_end": 3.4797399999999996,
            "count": 0
           },
           {
            "bin_start": 3.4797399999999996,
            "bin_end": 3.4807499999999996,
            "count": 0
           },
           {
            "bin_start": 3.4807499999999996,
            "bin_end": 3.48176,
            "count": 0
           },
           {
            "bin_start": 3.48176,
            "bin_end": 3.48277,
            "count": 1
           },
           {
            "bin_start": 3.48277,
            "bin_end": 3.48378,
            "count": 1
           },
           {
            "bin_start": 3.48378,
            "bin_end": 3.48479,
            "count": 1
           },
           {
            "bin_start": 3.48479,
            "bin_end": 3.4858,
            "count": 1
           }
          ]
         }
        },
        {
         "name": "TC_Soles_Euros",
         "dtype": "float64",
         "stats": {
          "unique_count": 5,
          "nan_count": 0,
          "min": "2.94",
          "max": "3.013",
          "histogram": [
           {
            "bin_start": 2.94,
            "bin_end": 2.9473,
            "count": 2
           },
           {
            "bin_start": 2.9473,
            "bin_end": 2.9546,
            "count": 0
           },
           {
            "bin_start": 2.9546,
            "bin_end": 2.9619,
            "count": 0
           },
           {
            "bin_start": 2.9619,
            "bin_end": 2.9692,
            "count": 0
           },
           {
            "bin_start": 2.9692,
            "bin_end": 2.9764999999999997,
            "count": 0
           },
           {
            "bin_start": 2.9764999999999997,
            "bin_end": 2.9838,
            "count": 0
           },
           {
            "bin_start": 2.9838,
            "bin_end": 2.9911,
            "count": 1
           },
           {
            "bin_start": 2.9911,
            "bin_end": 2.9983999999999997,
            "count": 0
           },
           {
            "bin_start": 2.9983999999999997,
            "bin_end": 3.0057,
            "count": 1
           },
           {
            "bin_start": 3.0057,
            "bin_end": 3.013,
            "count": 1
           }
          ]
         }
        },
        {
         "name": "_deepnote_index_column",
         "dtype": "datetime64[ns]"
        }
       ],
       "rows": [
        {
         "TC_Soles_Dolares": 3.4757,
         "TC_Soles_Euros": 2.989,
         "_deepnote_index_column": "2002-02-01T00:00:00.000000"
        },
        {
         "TC_Soles_Dolares": 3.4824,
         "TC_Soles_Euros": 2.94,
         "_deepnote_index_column": "2002-02-04T00:00:00.000000"
        },
        {
         "TC_Soles_Dolares": 3.4846,
         "TC_Soles_Euros": 2.999,
         "_deepnote_index_column": "2002-02-05T00:00:00.000000"
        },
        {
         "TC_Soles_Dolares": 3.4858,
         "TC_Soles_Euros": 2.946,
         "_deepnote_index_column": "2002-02-06T00:00:00.000000"
        },
        {
         "TC_Soles_Dolares": 3.4835,
         "TC_Soles_Euros": 3.013,
         "_deepnote_index_column": "2002-02-07T00:00:00.000000"
        }
       ]
      },
      "text/plain": "              TC_Soles_Dolares  TC_Soles_Euros\nFecha_Cambio                                  \n2002-02-01              3.4757           2.989\n2002-02-04              3.4824           2.940\n2002-02-05              3.4846           2.999\n2002-02-06              3.4858           2.946\n2002-02-07              3.4835           3.013",
      "text/html": "<div>\n<style scoped>\n    .dataframe tbody tr th:only-of-type {\n        vertical-align: middle;\n    }\n\n    .dataframe tbody tr th {\n        vertical-align: top;\n    }\n\n    .dataframe thead th {\n        text-align: right;\n    }\n</style>\n<table border=\"1\" class=\"dataframe\">\n  <thead>\n    <tr style=\"text-align: right;\">\n      <th></th>\n      <th>TC_Soles_Dolares</th>\n      <th>TC_Soles_Euros</th>\n    </tr>\n    <tr>\n      <th>Fecha_Cambio</th>\n      <th></th>\n      <th></th>\n    </tr>\n  </thead>\n  <tbody>\n    <tr>\n      <th>2002-02-01</th>\n      <td>3.4757</td>\n      <td>2.989</td>\n    </tr>\n    <tr>\n      <th>2002-02-04</th>\n      <td>3.4824</td>\n      <td>2.940</td>\n    </tr>\n    <tr>\n      <th>2002-02-05</th>\n      <td>3.4846</td>\n      <td>2.999</td>\n    </tr>\n    <tr>\n      <th>2002-02-06</th>\n      <td>3.4858</td>\n      <td>2.946</td>\n    </tr>\n    <tr>\n      <th>2002-02-07</th>\n      <td>3.4835</td>\n      <td>3.013</td>\n    </tr>\n  </tbody>\n</table>\n</div>"
     },
     "metadata": {}
    }
   ]
  },
  {
   "cell_type": "code",
   "metadata": {
    "cell_id": "74e9d6be-83f8-43d8-adae-399c003df6e8",
    "tags": [],
    "deepnote_to_be_reexecuted": false,
    "source_hash": "2e894166",
    "execution_start": 1643486693282,
    "execution_millis": 193,
    "deepnote_output_heights": [
     21.1875,
     250
    ],
    "deepnote_cell_type": "code"
   },
   "source": "# Mostramos imagen de la variacion del tipo de cambio del euro en el tiempo\nplt.plot(df.TC_Soles_Euros)",
   "execution_count": 22,
   "outputs": [
    {
     "output_type": "execute_result",
     "execution_count": 22,
     "data": {
      "text/plain": "[<matplotlib.lines.Line2D at 0x7fa7854fa0d0>]"
     },
     "metadata": {}
    },
    {
     "data": {
      "text/plain": "<Figure size 432x288 with 1 Axes>",
      "image/png": "[encoded data removed]"
     },
     "metadata": {
      "needs_background": "light",
      "image/png": {
       "width": 372,
       "height": 248
      }
     },
     "output_type": "display_data"
    }
   ]
  },
  {
   "cell_type": "code",
   "metadata": {
    "cell_id": "e56acb3a-1d14-4cba-a8fb-08b27f8e00e7",
    "tags": [],
    "deepnote_to_be_reexecuted": false,
    "source_hash": "14f60b8f",
    "execution_start": 1643486693480,
    "execution_millis": 1,
    "deepnote_output_heights": [
     21.1875
    ],
    "deepnote_cell_type": "code"
   },
   "source": "df.shape",
   "execution_count": 23,
   "outputs": [
    {
     "output_type": "execute_result",
     "execution_count": 23,
     "data": {
      "text/plain": "(4968, 2)"
     },
     "metadata": {}
    }
   ]
  },
  {
   "cell_type": "code",
   "metadata": {
    "cell_id": "26e53751-bf9d-4033-8b4d-aaba5f12379d",
    "tags": [],
    "deepnote_to_be_reexecuted": false,
    "source_hash": "c47e8819",
    "execution_start": 1643486693517,
    "execution_millis": 4,
    "deepnote_output_heights": [
     21.1875
    ],
    "deepnote_cell_type": "code"
   },
   "source": "# Cree un nuevo conjunto de datos con solo la columna TC_Soles_Euros\ndata = df.filter(['TC_Soles_Euros'])\n# Convierte el conjunto de datos en una matriz numpy\ndataset = data.values\n# Obtenemos el número de filas para entrenar el modelo\ntraining_data_len = int(np.ceil( len(dataset) * .95 ))\n\ntraining_data_len",
   "execution_count": 24,
   "outputs": [
    {
     "output_type": "execute_result",
     "execution_count": 24,
     "data": {
      "text/plain": "4720"
     },
     "metadata": {}
    }
   ]
  },
  {
   "cell_type": "code",
   "metadata": {
    "cell_id": "da916ba3-124a-4482-acd1-525378979e9b",
    "tags": [],
    "deepnote_to_be_reexecuted": false,
    "source_hash": "21827e90",
    "execution_start": 1643486693518,
    "execution_millis": 3,
    "deepnote_output_heights": [
     136.390625
    ],
    "deepnote_cell_type": "code"
   },
   "source": "# Escalamos la data\nfrom sklearn.preprocessing import MinMaxScaler\n\nscaler = MinMaxScaler(feature_range=(0,1))\nscaled_data = scaler.fit_transform(dataset)\n\nscaled_data",
   "execution_count": 25,
   "outputs": [
    {
     "output_type": "execute_result",
     "execution_count": 25,
     "data": {
      "text/plain": "array([[0.08780488],\n       [0.06390244],\n       [0.09268293],\n       ...,\n       [0.69170732],\n       [0.69902439],\n       [0.74536585]])"
     },
     "metadata": {}
    }
   ]
  },
  {
   "cell_type": "code",
   "metadata": {
    "cell_id": "2b2c354b-8a59-43b4-8522-6310f28cbc84",
    "tags": [],
    "deepnote_to_be_reexecuted": false,
    "source_hash": "7864a916",
    "execution_start": 1643486693519,
    "execution_millis": 4,
    "deepnote_cell_type": "code"
   },
   "source": "# Creamos el conjunto de datos de entrenamiento\n# Creamos el conjunto de datos de entrenamiento escalado\ntrain_data = scaled_data[0:int(training_data_len), :]\n\n# Dividimos los datos en conjuntos de datos x_train y y_train\nx_train = []\ny_train = []\n\nfor i in range(60, len(train_data)):\n    x_train.append(train_data[i-60:i, 0])\n    y_train.append(train_data[i, 0])\n    if i<= 61:\n        print(x_train)\n        print(y_train)\n        print()\n        \n# Convierte x_train y y_train en matrices numpy\nx_train, y_train = np.array(x_train), np.array(y_train)\n\n# Reformamos los datos\nx_train = np.reshape(x_train, (x_train.shape[0], x_train.shape[1], 1))\n# x_train.shape",
   "execution_count": 26,
   "outputs": [
    {
     "name": "stdout",
     "text": "[array([0.08780488, 0.06390244, 0.09268293, 0.06682927, 0.0995122 ,\n       0.1004878 , 0.09073171, 0.10487805, 0.09268293, 0.08439024,\n       0.09317073, 0.06146341, 0.10243902, 0.10487805, 0.08585366,\n       0.10682927, 0.09073171, 0.0702439 , 0.09902439, 0.09170732,\n       0.08634146, 0.08780488, 0.09414634, 0.09512195, 0.0995122 ,\n       0.10682927, 0.10487805, 0.09609756, 0.1       , 0.10682927,\n       0.10292683, 0.10682927, 0.07804878, 0.10634146, 0.12      ,\n       0.11121951, 0.10585366, 0.09804878, 0.10390244, 0.09707317,\n       0.1102439 , 0.10829268, 0.1097561 , 0.0995122 , 0.10585366,\n       0.0995122 , 0.10487805, 0.10536585, 0.10829268, 0.0795122 ,\n       0.09512195, 0.11121951, 0.11317073, 0.11121951, 0.11317073,\n       0.10878049, 0.12634146, 0.11804878, 0.13414634, 0.13560976])]\n[0.138048780487805]\n\n[array([0.08780488, 0.06390244, 0.09268293, 0.06682927, 0.0995122 ,\n       0.1004878 , 0.09073171, 0.10487805, 0.09268293, 0.08439024,\n       0.09317073, 0.06146341, 0.10243902, 0.10487805, 0.08585366,\n       0.10682927, 0.09073171, 0.0702439 , 0.09902439, 0.09170732,\n       0.08634146, 0.08780488, 0.09414634, 0.09512195, 0.0995122 ,\n       0.10682927, 0.10487805, 0.09609756, 0.1       , 0.10682927,\n       0.10292683, 0.10682927, 0.07804878, 0.10634146, 0.12      ,\n       0.11121951, 0.10585366, 0.09804878, 0.10390244, 0.09707317,\n       0.1102439 , 0.10829268, 0.1097561 , 0.0995122 , 0.10585366,\n       0.0995122 , 0.10487805, 0.10536585, 0.10829268, 0.0795122 ,\n       0.09512195, 0.11121951, 0.11317073, 0.11121951, 0.11317073,\n       0.10878049, 0.12634146, 0.11804878, 0.13414634, 0.13560976]), array([0.06390244, 0.09268293, 0.06682927, 0.0995122 , 0.1004878 ,\n       0.09073171, 0.10487805, 0.09268293, 0.08439024, 0.09317073,\n       0.06146341, 0.10243902, 0.10487805, 0.08585366, 0.10682927,\n       0.09073171, 0.0702439 , 0.09902439, 0.09170732, 0.08634146,\n       0.08780488, 0.09414634, 0.09512195, 0.0995122 , 0.10682927,\n       0.10487805, 0.09609756, 0.1       , 0.10682927, 0.10292683,\n       0.10682927, 0.07804878, 0.10634146, 0.12      , 0.11121951,\n       0.10585366, 0.09804878, 0.10390244, 0.09707317, 0.1102439 ,\n       0.10829268, 0.1097561 , 0.0995122 , 0.10585366, 0.0995122 ,\n       0.10487805, 0.10536585, 0.10829268, 0.0795122 , 0.09512195,\n       0.11121951, 0.11317073, 0.11121951, 0.11317073, 0.10878049,\n       0.12634146, 0.11804878, 0.13414634, 0.13560976, 0.13804878])]\n[0.138048780487805, 0.1356097560975611]\n\n",
     "output_type": "stream"
    }
   ]
  },
  {
   "cell_type": "markdown",
   "source": "# Red LSTM",
   "metadata": {
    "cell_id": "383451dd-64cf-4a7a-b88b-088368f4dfeb",
    "tags": [],
    "deepnote_cell_type": "markdown"
   }
  },
  {
   "cell_type": "code",
   "metadata": {
    "cell_id": "e344076c-cd8f-43a1-b63d-f2e13805af6a",
    "tags": [],
    "deepnote_to_be_reexecuted": false,
    "source_hash": "e40943a1",
    "execution_start": 1643486693529,
    "execution_millis": 148609,
    "deepnote_output_heights": [
     null,
     21.1875
    ],
    "deepnote_cell_type": "code"
   },
   "source": "from tensorflow.keras.models import Sequential\nfrom tensorflow.keras.layers import Dense, LSTM\n\n# Construyendo el modelo LSTM\nmodel = Sequential()\nmodel.add(LSTM(128, return_sequences=True, input_shape= (x_train.shape[1], 1)))\nmodel.add(LSTM(64, return_sequences=False))\nmodel.add(Dense(25))\nmodel.add(Dense(1))\n\n# Compilando el modelo\nmodel.compile(optimizer='adam', loss='mean_squared_error')\n\n# Entrenando el modelo\nmodel.fit(x_train, y_train, batch_size=1, epochs=1)",
   "execution_count": 27,
   "outputs": [
    {
     "name": "stdout",
     "text": "",
     "output_type": "stream"
    },
    {
     "name": "stdout",
     "text": "4660/4660 [==============================] - 148s 31ms/step - loss: 0.0030\n",
     "output_type": "stream"
    },
    {
     "output_type": "execute_result",
     "execution_count": 27,
     "data": {
      "text/plain": "<tensorflow.python.keras.callbacks.History at 0x7fa7d95eea50>"
     },
     "metadata": {}
    }
   ]
  },
  {
   "cell_type": "code",
   "metadata": {
    "cell_id": "30ad9ab9-68b9-4f26-8c6f-a6a92c74a3c8",
    "tags": [],
    "deepnote_to_be_reexecuted": false,
    "source_hash": "ed4c18a7",
    "execution_start": 1643486842029,
    "execution_millis": 0,
    "deepnote_cell_type": "code"
   },
   "source": "# Guardando el modelo \nmodel.save('keras_model2.h5')",
   "execution_count": 28,
   "outputs": []
  },
  {
   "cell_type": "code",
   "metadata": {
    "cell_id": "dd1e200c-6995-4251-8681-1e15b7582d73",
    "tags": [],
    "deepnote_to_be_reexecuted": false,
    "source_hash": "c63865d7",
    "execution_start": 1643486842071,
    "execution_millis": 677,
    "deepnote_output_heights": [
     21.1875
    ],
    "deepnote_cell_type": "code"
   },
   "source": "# Crear el conjunto de datos de prueba\ntest_data = scaled_data[training_data_len - 60: , :]\n\n# Creamos los conjuntos de datos x_test y y_test\nx_test = []\ny_test = dataset[training_data_len:, :]\nfor i in range(60, len(test_data)):\n    x_test.append(test_data[i-60:i, 0])\n    \n# Convierte los datos en una matriz numpy\nx_test = np.array(x_test)\n\n# Reformamos los datos\nx_test = np.reshape(x_test, (x_test.shape[0], x_test.shape[1], 1 ))\n\n# Obtenemos los valores de precios predichos del modelo\npredictions = model.predict(x_test)\npredictions = scaler.inverse_transform(predictions)\n\n# Obtenemos la raíz del error cuadrático medio (RMSE)\nrmse = np.sqrt(np.mean(((predictions - y_test) ** 2)))\nrmse",
   "execution_count": 29,
   "outputs": [
    {
     "output_type": "execute_result",
     "execution_count": 29,
     "data": {
      "text/plain": "0.09655003306302458"
     },
     "metadata": {}
    }
   ]
  },
  {
   "cell_type": "code",
   "metadata": {
    "cell_id": "c0863324-7254-4b8a-8240-b57ac8328a1b",
    "tags": [],
    "deepnote_to_be_reexecuted": false,
    "source_hash": "9a611001",
    "execution_start": 1643486842749,
    "execution_millis": 263,
    "deepnote_output_heights": [
     null,
     384.703125
    ],
    "deepnote_cell_type": "code"
   },
   "source": "# Graficamos los datos\ntrain = data[:training_data_len]\nvalid = data[training_data_len:]\nvalid['Predictions'] = predictions\n# Visualizamos la comparacion de entrenamiento, validacion y prediccion\nplt.figure(figsize=(16,6))\nplt.title('Model')\nplt.xlabel('Tiempo', fontsize=18)\nplt.ylabel('Precio euros (€)', fontsize=18)\nplt.plot(train['TC_Soles_Euros'])\nplt.plot(valid[['TC_Soles_Euros', 'Predictions']])\nplt.legend(['Train', 'Val', 'Predictions'], loc='lower right')\nplt.show()",
   "execution_count": 30,
   "outputs": [
    {
     "name": "stderr",
     "text": "/shared-libs/python3.7/py-core/lib/python3.7/site-packages/ipykernel_launcher.py:4: SettingWithCopyWarning: \nA value is trying to be set on a copy of a slice from a DataFrame.\nTry using .loc[row_indexer,col_indexer] = value instead\n\nSee the caveats in the documentation: https://pandas.pydata.org/pandas-docs/stable/user_guide/indexing.html#returning-a-view-versus-a-copy\n  after removing the cwd from sys.path.\n",
     "output_type": "stream"
    },
    {
     "data": {
      "text/plain": "<Figure size 1152x432 with 1 Axes>",
      "image/png": "[encoded data removed]"
     },
     "metadata": {
      "needs_background": "light",
      "image/png": {
       "width": 952,
       "height": 395
      }
     },
     "output_type": "display_data"
    }
   ]
  },
  {
   "cell_type": "code",
   "metadata": {
    "cell_id": "d7495469-c5e7-482d-b954-28e3cb418d4f",
    "tags": [],
    "deepnote_to_be_reexecuted": false,
    "source_hash": "56ec79aa",
    "execution_start": 1643486843059,
    "execution_millis": 206,
    "deepnote_output_heights": [
     373
    ],
    "deepnote_cell_type": "code"
   },
   "source": "# Visuslaizamos una grafica del Precio predecido vs Precio Original\nplt.figure(figsize=(12,6))\nplt.plot(y_test, 'b', label = 'Precio Original')\nplt.plot(predictions, 'r', label= 'Precio Predecido')\nplt.xlabel('Tiempo')\nplt.ylabel('Precio')\nplt.legend()\nplt.show()",
   "execution_count": 31,
   "outputs": [
    {
     "data": {
      "text/plain": "<Figure size 864x432 with 1 Axes>",
      "image/png": "[encoded data removed]"
     },
     "metadata": {
      "needs_background": "light",
      "image/png": {
       "width": 720,
       "height": 371
      }
     },
     "output_type": "display_data"
    }
   ]
  },
  {
   "cell_type": "code",
   "metadata": {
    "cell_id": "d1f17ce7-dedd-4655-88c6-e65da7f62855",
    "tags": [],
    "deepnote_to_be_reexecuted": false,
    "source_hash": "2f64d245",
    "execution_start": 1643486843305,
    "execution_millis": 5,
    "deepnote_output_heights": [
     411.1875
    ],
    "deepnote_cell_type": "code"
   },
   "source": "# Mostrar los precios válidos y los previstos del euro\nvalid",
   "execution_count": 32,
   "outputs": [
    {
     "output_type": "execute_result",
     "execution_count": 32,
     "data": {
      "application/vnd.deepnote.dataframe.v3+json": {
       "column_count": 2,
       "row_count": 248,
       "columns": [
        {
         "name": "TC_Soles_Euros",
         "dtype": "float64",
         "stats": {
          "unique_count": 202,
          "nan_count": 0,
          "min": "4.153",
          "max": "4.859",
          "histogram": [
           {
            "bin_start": 4.153,
            "bin_end": 4.223599999999999,
            "count": 2
           },
           {
            "bin_start": 4.223599999999999,
            "bin_end": 4.2942,
            "count": 14
           },
           {
            "bin_start": 4.2942,
            "bin_end": 4.3648,
            "count": 37
           },
           {
            "bin_start": 4.3648,
            "bin_end": 4.4354,
            "count": 35
           },
           {
            "bin_start": 4.4354,
            "bin_end": 4.506,
            "count": 35
           },
           {
            "bin_start": 4.506,
            "bin_end": 4.5766,
            "count": 37
           },
           {
            "bin_start": 4.5766,
            "bin_end": 4.6472,
            "count": 31
           },
           {
            "bin_start": 4.6472,
            "bin_end": 4.7177999999999995,
            "count": 23
           },
           {
            "bin_start": 4.7177999999999995,
            "bin_end": 4.7884,
            "count": 19
           },
           {
            "bin_start": 4.7884,
            "bin_end": 4.859,
            "count": 15
           }
          ]
         }
        },
        {
         "name": "Predictions",
         "dtype": "float32",
         "stats": {
          "unique_count": 248,
          "nan_count": 0,
          "min": "4.17862606048584",
          "max": "4.75214958190918",
          "histogram": [
           {
            "bin_start": 4.17862606048584,
            "bin_end": 4.235978603363037,
            "count": 11
           },
           {
            "bin_start": 4.235978603363037,
            "bin_end": 4.293330669403076,
            "count": 21
           },
           {
            "bin_start": 4.293330669403076,
            "bin_end": 4.350683212280273,
            "count": 42
           },
           {
            "bin_start": 4.350683212280273,
            "bin_end": 4.4080352783203125,
            "count": 21
           },
           {
            "bin_start": 4.4080352783203125,
            "bin_end": 4.46538782119751,
            "count": 41
           },
           {
            "bin_start": 4.46538782119751,
            "bin_end": 4.522740364074707,
            "count": 30
           },
           {
            "bin_start": 4.522740364074707,
            "bin_end": 4.580092430114746,
            "count": 26
           },
           {
            "bin_start": 4.580092430114746,
            "bin_end": 4.637444972991943,
            "count": 24
           },
           {
            "bin_start": 4.637444972991943,
            "bin_end": 4.694797039031982,
            "count": 9
           },
           {
            "bin_start": 4.694797039031982,
            "bin_end": 4.75214958190918,
            "count": 23
           }
          ]
         }
        },
        {
         "name": "_deepnote_index_column",
         "dtype": "datetime64[ns]"
        }
       ],
       "rows": [
        {
         "TC_Soles_Euros": 4.301,
         "Predictions": 4.2978515625,
         "_deepnote_index_column": "2021-02-01T00:00:00.000000"
        },
        {
         "TC_Soles_Euros": 4.331,
         "Predictions": 4.274587631225586,
         "_deepnote_index_column": "2021-02-02T00:00:00.000000"
        },
        {
         "TC_Soles_Euros": 4.34,
         "Predictions": 4.273056507110596,
         "_deepnote_index_column": "2021-02-03T00:00:00.000000"
        },
        {
         "TC_Soles_Euros": 4.338,
         "Predictions": 4.277227878570557,
         "_deepnote_index_column": "2021-02-04T00:00:00.000000"
        },
        {
         "TC_Soles_Euros": 4.365,
         "Predictions": 4.2790398597717285,
         "_deepnote_index_column": "2021-02-05T00:00:00.000000"
        },
        {
         "TC_Soles_Euros": 4.358,
         "Predictions": 4.29055118560791,
         "_deepnote_index_column": "2021-02-08T00:00:00.000000"
        },
        {
         "TC_Soles_Euros": 4.346,
         "Predictions": 4.294624328613281,
         "_deepnote_index_column": "2021-02-09T00:00:00.000000"
        },
        {
         "TC_Soles_Euros": 4.39,
         "Predictions": 4.291505336761475,
         "_deepnote_index_column": "2021-02-10T00:00:00.000000"
        },
        {
         "TC_Soles_Euros": 4.379,
         "Predictions": 4.307000637054443,
         "_deepnote_index_column": "2021-02-11T00:00:00.000000"
        },
        {
         "TC_Soles_Euros": 4.381,
         "Predictions": 4.312417507171631,
         "_deepnote_index_column": "2021-02-12T00:00:00.000000"
        }
       ]
      },
      "text/plain": "              TC_Soles_Euros  Predictions\nFecha_Cambio                             \n2021-02-01             4.301     4.297852\n2021-02-02             4.331     4.274588\n2021-02-03             4.340     4.273057\n2021-02-04             4.338     4.277228\n2021-02-05             4.365     4.279040\n...                      ...          ...\n2022-01-19             4.251     4.273004\n2022-01-20             4.153     4.240536\n2022-01-21             4.227     4.183728\n2022-01-24             4.242     4.178626\n2022-01-25             4.337     4.184691\n\n[248 rows x 2 columns]",
      "text/html": "<div>\n<style scoped>\n    .dataframe tbody tr th:only-of-type {\n        vertical-align: middle;\n    }\n\n    .dataframe tbody tr th {\n        vertical-align: top;\n    }\n\n    .dataframe thead th {\n        text-align: right;\n    }\n</style>\n<table border=\"1\" class=\"dataframe\">\n  <thead>\n    <tr style=\"text-align: right;\">\n      <th></th>\n      <th>TC_Soles_Euros</th>\n      <th>Predictions</th>\n    </tr>\n    <tr>\n      <th>Fecha_Cambio</th>\n      <th></th>\n      <th></th>\n    </tr>\n  </thead>\n  <tbody>\n    <tr>\n      <th>2021-02-01</th>\n      <td>4.301</td>\n      <td>4.297852</td>\n    </tr>\n    <tr>\n      <th>2021-02-02</th>\n      <td>4.331</td>\n      <td>4.274588</td>\n    </tr>\n    <tr>\n      <th>2021-02-03</th>\n      <td>4.340</td>\n      <td>4.273057</td>\n    </tr>\n    <tr>\n      <th>2021-02-04</th>\n      <td>4.338</td>\n      <td>4.277228</td>\n    </tr>\n    <tr>\n      <th>2021-02-05</th>\n      <td>4.365</td>\n      <td>4.279040</td>\n    </tr>\n    <tr>\n      <th>...</th>\n      <td>...</td>\n      <td>...</td>\n    </tr>\n    <tr>\n      <th>2022-01-19</th>\n      <td>4.251</td>\n      <td>4.273004</td>\n    </tr>\n    <tr>\n      <th>2022-01-20</th>\n      <td>4.153</td>\n      <td>4.240536</td>\n    </tr>\n    <tr>\n      <th>2022-01-21</th>\n      <td>4.227</td>\n      <td>4.183728</td>\n    </tr>\n    <tr>\n      <th>2022-01-24</th>\n      <td>4.242</td>\n      <td>4.178626</td>\n    </tr>\n    <tr>\n      <th>2022-01-25</th>\n      <td>4.337</td>\n      <td>4.184691</td>\n    </tr>\n  </tbody>\n</table>\n<p>248 rows × 2 columns</p>\n</div>"
     },
     "metadata": {}
    }
   ]
  },
  {
   "cell_type": "markdown",
   "source": "<a style='text-decoration:none;line-height:16px;display:flex;color:#5B5B62;padding:10px;justify-content:end;' href='https://deepnote.com?utm_source=created-in-deepnote-cell&projectId=bec4fde9-3271-4973-9805-8dd1c303c5ca' target=\"_blank\">\n<img alt='Created in deepnote.com' style='display:inline;max-height:16px;margin:0px;margin-right:7.5px;' src='data:image/svg+xml;base64,PD94bWwgdmVyc2lvbj0iMS4wIiBlbmNvZGluZz0iVVRGLTgiPz4KPHN2ZyB3aWR0aD0iODBweCIgaGVpZ2h0PSI4MHB4IiB2aWV3Qm94PSIwIDAgODAgODAiIHZlcnNpb249IjEuMSIgeG1sbnM9Imh0dHA6Ly93d3cudzMub3JnLzIwMDAvc3ZnIiB4bWxuczp4bGluaz0iaHR0cDovL3d3dy53My5vcmcvMTk5OS94bGluayI+CiAgICA8IS0tIEdlbmVyYXRvcjogU2tldGNoIDU0LjEgKDc2NDkwKSAtIGh0dHBzOi8vc2tldGNoYXBwLmNvbSAtLT4KICAgIDx0aXRsZT5Hcm91cCAzPC90aXRsZT4KICAgIDxkZXNjPkNyZWF0ZWQgd2l0aCBTa2V0Y2guPC9kZXNjPgogICAgPGcgaWQ9IkxhbmRpbmciIHN0cm9rZT0ibm9uZSIgc3Ryb2tlLXdpZHRoPSIxIiBmaWxsPSJub25lIiBmaWxsLXJ1bGU9ImV2ZW5vZGQiPgogICAgICAgIDxnIGlkPSJBcnRib2FyZCIgdHJhbnNmb3JtPSJ0cmFuc2xhdGUoLTEyMzUuMDAwMDAwLCAtNzkuMDAwMDAwKSI+CiAgICAgICAgICAgIDxnIGlkPSJHcm91cC0zIiB0cmFuc2Zvcm09InRyYW5zbGF0ZSgxMjM1LjAwMDAwMCwgNzkuMDAwMDAwKSI+CiAgICAgICAgICAgICAgICA8cG9seWdvbiBpZD0iUGF0aC0yMCIgZmlsbD0iIzAyNjVCNCIgcG9pbnRzPSIyLjM3NjIzNzYyIDgwIDM4LjA0NzY2NjcgODAgNTcuODIxNzgyMiA3My44MDU3NTkyIDU3LjgyMTc4MjIgMzIuNzU5MjczOSAzOS4xNDAyMjc4IDMxLjY4MzE2ODMiPjwvcG9seWdvbj4KICAgICAgICAgICAgICAgIDxwYXRoIGQ9Ik0zNS4wMDc3MTgsODAgQzQyLjkwNjIwMDcsNzYuNDU0OTM1OCA0Ny41NjQ5MTY3LDcxLjU0MjI2NzEgNDguOTgzODY2LDY1LjI2MTk5MzkgQzUxLjExMjI4OTksNTUuODQxNTg0MiA0MS42NzcxNzk1LDQ5LjIxMjIyODQgMjUuNjIzOTg0Niw0OS4yMTIyMjg0IEMyNS40ODQ5Mjg5LDQ5LjEyNjg0NDggMjkuODI2MTI5Niw0My4yODM4MjQ4IDM4LjY0NzU4NjksMzEuNjgzMTY4MyBMNzIuODcxMjg3MSwzMi41NTQ0MjUgTDY1LjI4MDk3Myw2Ny42NzYzNDIxIEw1MS4xMTIyODk5LDc3LjM3NjE0NCBMMzUuMDA3NzE4LDgwIFoiIGlkPSJQYXRoLTIyIiBmaWxsPSIjMDAyODY4Ij48L3BhdGg+CiAgICAgICAgICAgICAgICA8cGF0aCBkPSJNMCwzNy43MzA0NDA1IEwyNy4xMTQ1MzcsMC4yNTcxMTE0MzYgQzYyLjM3MTUxMjMsLTEuOTkwNzE3MDEgODAsMTAuNTAwMzkyNyA4MCwzNy43MzA0NDA1IEM4MCw2NC45NjA0ODgyIDY0Ljc3NjUwMzgsNzkuMDUwMzQxNCAzNC4zMjk1MTEzLDgwIEM0Ny4wNTUzNDg5LDc3LjU2NzA4MDggNTMuNDE4MjY3Nyw3MC4zMTM2MTAzIDUzLjQxODI2NzcsNTguMjM5NTg4NSBDNTMuNDE4MjY3Nyw0MC4xMjg1NTU3IDM2LjMwMzk1NDQsMzcuNzMwNDQwNSAyNS4yMjc0MTcsMzcuNzMwNDQwNSBDMTcuODQzMDU4NiwzNy43MzA0NDA1IDkuNDMzOTE5NjYsMzcuNzMwNDQwNSAwLDM3LjczMDQ0MDUgWiIgaWQ9IlBhdGgtMTkiIGZpbGw9IiMzNzkzRUYiPjwvcGF0aD4KICAgICAgICAgICAgPC9nPgogICAgICAgIDwvZz4KICAgIDwvZz4KPC9zdmc+' > </img>\nCreated in <span style='font-weight:600;margin-left:4px;'>Deepnote</span></a>",
   "metadata": {
    "tags": [],
    "created_in_deepnote_cell": true,
    "deepnote_cell_type": "markdown"
   }
  }
 ],
 "nbformat": 4,
 "nbformat_minor": 2,
 "metadata": {
  "orig_nbformat": 2,
  "deepnote": {
   "is_reactive": false
  },
  "deepnote_notebook_id": "e3c869af-3327-4271-9302-9769af7620bd",
  "deepnote_execution_queue": []
 }
}